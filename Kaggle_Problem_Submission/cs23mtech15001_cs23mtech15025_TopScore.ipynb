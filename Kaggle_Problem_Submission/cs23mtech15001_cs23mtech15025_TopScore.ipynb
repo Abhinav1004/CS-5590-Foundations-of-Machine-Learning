{
 "cells": [
  {
   "cell_type": "code",
   "execution_count": 1,
   "id": "e2f16d38",
   "metadata": {},
   "outputs": [],
   "source": [
    "import pandas as pd\n",
    "import os\n",
    "import numpy as np\n",
    "import matplotlib.pyplot as plt\n",
    "from sklearn import preprocessing\n",
    "\n",
    "from scipy import stats as st\n",
    "from sklearn.preprocessing import MinMaxScaler\n",
    "from sklearn.linear_model import LinearRegression\n",
    "from sklearn.model_selection import train_test_split, cross_val_score\n",
    "from sklearn.metrics import mean_squared_error,accuracy_score,f1_score\n",
    "from sklearn.linear_model import RidgeClassifier\n",
    "from sklearn.metrics import classification_report\n",
    "from sklearn.metrics import accuracy_score, precision_score, recall_score, f1_score, roc_curve, auc, confusion_matrix\n",
    "\n",
    "from sklearn.impute import SimpleImputer\n",
    "from sklearn.preprocessing import StandardScaler, OneHotEncoder\n",
    "from sklearn.compose import ColumnTransformer\n",
    "from sklearn.pipeline import Pipeline\n",
    "from sklearn.preprocessing import PolynomialFeatures\n",
    "from scipy.sparse import hstack\n",
    "from imblearn.over_sampling import RandomOverSampler\n",
    "\n",
    "from sklearn.linear_model import SGDClassifier\n",
    "from sklearn.naive_bayes import GaussianNB\n",
    "from sklearn.tree import DecisionTreeClassifier\n",
    "from sklearn.ensemble import RandomForestClassifier, AdaBoostClassifier\n",
    "from sklearn.ensemble import VotingClassifier\n",
    "from sklearn.svm import SVC\n"
   ]
  },
  {
   "cell_type": "code",
   "execution_count": 2,
   "id": "f151f249",
   "metadata": {},
   "outputs": [],
   "source": [
    "random_state = 42\n",
    "seed = 5"
   ]
  },
  {
   "cell_type": "code",
   "execution_count": 3,
   "id": "2ce2fe96",
   "metadata": {},
   "outputs": [],
   "source": [
    "df = pd.read_csv(\"./data/iith_foml_2023_train.csv\")\n",
    "df_valid = pd.read_csv(\"./data/test_input.csv\")"
   ]
  },
  {
   "cell_type": "code",
   "execution_count": 4,
   "id": "99f6494c",
   "metadata": {},
   "outputs": [
    {
     "data": {
      "text/plain": [
       "(994, 25)"
      ]
     },
     "execution_count": 4,
     "metadata": {},
     "output_type": "execute_result"
    }
   ],
   "source": [
    "df.shape"
   ]
  },
  {
   "cell_type": "code",
   "execution_count": 5,
   "id": "6687f2f8",
   "metadata": {},
   "outputs": [
    {
     "data": {
      "text/html": [
       "<div>\n",
       "<style scoped>\n",
       "    .dataframe tbody tr th:only-of-type {\n",
       "        vertical-align: middle;\n",
       "    }\n",
       "\n",
       "    .dataframe tbody tr th {\n",
       "        vertical-align: top;\n",
       "    }\n",
       "\n",
       "    .dataframe thead th {\n",
       "        text-align: right;\n",
       "    }\n",
       "</style>\n",
       "<table border=\"1\" class=\"dataframe\">\n",
       "  <thead>\n",
       "    <tr style=\"text-align: right;\">\n",
       "      <th></th>\n",
       "      <th>Feature 1 (Discrete)</th>\n",
       "      <th>Feature 2 (Discrete)</th>\n",
       "      <th>Feature 3 (Discrete)</th>\n",
       "      <th>Feature 4 (Discrete)</th>\n",
       "      <th>Feature 5 (Discrete)</th>\n",
       "      <th>Feature 6 (Discrete)</th>\n",
       "      <th>Feature 7 (Discrete)</th>\n",
       "      <th>Feature 8 (Discrete)</th>\n",
       "      <th>Feature 9</th>\n",
       "      <th>Feature 10</th>\n",
       "      <th>...</th>\n",
       "      <th>Feature 16</th>\n",
       "      <th>Feature 17</th>\n",
       "      <th>Feature 18</th>\n",
       "      <th>Feature 19 (Discrete)</th>\n",
       "      <th>Feature 20 (Discrete)</th>\n",
       "      <th>Feature 21 (Discrete)</th>\n",
       "      <th>Feature 22 (Discrete)</th>\n",
       "      <th>Feature 23 (Discrete)</th>\n",
       "      <th>Feature 24</th>\n",
       "      <th>Target Variable (Discrete)</th>\n",
       "    </tr>\n",
       "  </thead>\n",
       "  <tbody>\n",
       "    <tr>\n",
       "      <th>0</th>\n",
       "      <td>1404</td>\n",
       "      <td>12</td>\n",
       "      <td>64</td>\n",
       "      <td>14</td>\n",
       "      <td>3</td>\n",
       "      <td>1</td>\n",
       "      <td>1</td>\n",
       "      <td>1</td>\n",
       "      <td>110.502</td>\n",
       "      <td>35775.2</td>\n",
       "      <td>...</td>\n",
       "      <td>NaN</td>\n",
       "      <td>NaN</td>\n",
       "      <td>15.04</td>\n",
       "      <td>104</td>\n",
       "      <td>12</td>\n",
       "      <td>2</td>\n",
       "      <td>32</td>\n",
       "      <td>1409</td>\n",
       "      <td>37677.1</td>\n",
       "      <td>1</td>\n",
       "    </tr>\n",
       "    <tr>\n",
       "      <th>1</th>\n",
       "      <td>909</td>\n",
       "      <td>0</td>\n",
       "      <td>235</td>\n",
       "      <td>32</td>\n",
       "      <td>1</td>\n",
       "      <td>1</td>\n",
       "      <td>1</td>\n",
       "      <td>1</td>\n",
       "      <td>-40.448</td>\n",
       "      <td>35779.4</td>\n",
       "      <td>...</td>\n",
       "      <td>2200.3</td>\n",
       "      <td>4900.005</td>\n",
       "      <td>12.03</td>\n",
       "      <td>20</td>\n",
       "      <td>1</td>\n",
       "      <td>0</td>\n",
       "      <td>13</td>\n",
       "      <td>909</td>\n",
       "      <td>25239.1</td>\n",
       "      <td>1</td>\n",
       "    </tr>\n",
       "    <tr>\n",
       "      <th>2</th>\n",
       "      <td>654</td>\n",
       "      <td>3</td>\n",
       "      <td>175</td>\n",
       "      <td>2</td>\n",
       "      <td>1</td>\n",
       "      <td>1</td>\n",
       "      <td>1</td>\n",
       "      <td>1</td>\n",
       "      <td>-27.445</td>\n",
       "      <td>35770.4</td>\n",
       "      <td>...</td>\n",
       "      <td>1973.3</td>\n",
       "      <td>10000.004</td>\n",
       "      <td>13.01</td>\n",
       "      <td>1</td>\n",
       "      <td>1</td>\n",
       "      <td>0</td>\n",
       "      <td>13</td>\n",
       "      <td>654</td>\n",
       "      <td>27683.5</td>\n",
       "      <td>1</td>\n",
       "    </tr>\n",
       "    <tr>\n",
       "      <th>3</th>\n",
       "      <td>1372</td>\n",
       "      <td>12</td>\n",
       "      <td>382</td>\n",
       "      <td>14</td>\n",
       "      <td>2</td>\n",
       "      <td>0</td>\n",
       "      <td>1</td>\n",
       "      <td>0</td>\n",
       "      <td>0.001</td>\n",
       "      <td>509.2</td>\n",
       "      <td>...</td>\n",
       "      <td>NaN</td>\n",
       "      <td>NaN</td>\n",
       "      <td>NaN</td>\n",
       "      <td>313</td>\n",
       "      <td>12</td>\n",
       "      <td>10</td>\n",
       "      <td>54</td>\n",
       "      <td>1377</td>\n",
       "      <td>39363.2</td>\n",
       "      <td>0</td>\n",
       "    </tr>\n",
       "    <tr>\n",
       "      <th>4</th>\n",
       "      <td>786</td>\n",
       "      <td>3</td>\n",
       "      <td>199</td>\n",
       "      <td>2</td>\n",
       "      <td>1</td>\n",
       "      <td>0</td>\n",
       "      <td>1</td>\n",
       "      <td>0</td>\n",
       "      <td>0.001</td>\n",
       "      <td>612.1</td>\n",
       "      <td>...</td>\n",
       "      <td>NaN</td>\n",
       "      <td>NaN</td>\n",
       "      <td>NaN</td>\n",
       "      <td>171</td>\n",
       "      <td>1</td>\n",
       "      <td>5</td>\n",
       "      <td>11</td>\n",
       "      <td>786</td>\n",
       "      <td>40044.4</td>\n",
       "      <td>2</td>\n",
       "    </tr>\n",
       "  </tbody>\n",
       "</table>\n",
       "<p>5 rows × 25 columns</p>\n",
       "</div>"
      ],
      "text/plain": [
       "   Feature 1 (Discrete)  Feature 2 (Discrete)  Feature 3 (Discrete)  \\\n",
       "0                  1404                    12                    64   \n",
       "1                   909                     0                   235   \n",
       "2                   654                     3                   175   \n",
       "3                  1372                    12                   382   \n",
       "4                   786                     3                   199   \n",
       "\n",
       "   Feature 4 (Discrete)  Feature 5 (Discrete)  Feature 6 (Discrete)  \\\n",
       "0                    14                     3                     1   \n",
       "1                    32                     1                     1   \n",
       "2                     2                     1                     1   \n",
       "3                    14                     2                     0   \n",
       "4                     2                     1                     0   \n",
       "\n",
       "   Feature 7 (Discrete)  Feature 8 (Discrete)  Feature 9  Feature 10  ...  \\\n",
       "0                     1                     1    110.502     35775.2  ...   \n",
       "1                     1                     1    -40.448     35779.4  ...   \n",
       "2                     1                     1    -27.445     35770.4  ...   \n",
       "3                     1                     0      0.001       509.2  ...   \n",
       "4                     1                     0      0.001       612.1  ...   \n",
       "\n",
       "   Feature 16  Feature 17  Feature 18  Feature 19 (Discrete)  \\\n",
       "0         NaN         NaN       15.04                    104   \n",
       "1      2200.3    4900.005       12.03                     20   \n",
       "2      1973.3   10000.004       13.01                      1   \n",
       "3         NaN         NaN         NaN                    313   \n",
       "4         NaN         NaN         NaN                    171   \n",
       "\n",
       "   Feature 20 (Discrete)  Feature 21 (Discrete)  Feature 22 (Discrete)  \\\n",
       "0                     12                      2                     32   \n",
       "1                      1                      0                     13   \n",
       "2                      1                      0                     13   \n",
       "3                     12                     10                     54   \n",
       "4                      1                      5                     11   \n",
       "\n",
       "   Feature 23 (Discrete)  Feature 24  Target Variable (Discrete)  \n",
       "0                   1409     37677.1                           1  \n",
       "1                    909     25239.1                           1  \n",
       "2                    654     27683.5                           1  \n",
       "3                   1377     39363.2                           0  \n",
       "4                    786     40044.4                           2  \n",
       "\n",
       "[5 rows x 25 columns]"
      ]
     },
     "execution_count": 5,
     "metadata": {},
     "output_type": "execute_result"
    }
   ],
   "source": [
    "df.head()"
   ]
  },
  {
   "cell_type": "code",
   "execution_count": 6,
   "id": "70cd3604",
   "metadata": {},
   "outputs": [
    {
     "name": "stdout",
     "output_type": "stream",
     "text": [
      "<class 'pandas.core.frame.DataFrame'>\n",
      "RangeIndex: 994 entries, 0 to 993\n",
      "Data columns (total 25 columns):\n",
      " #   Column                      Non-Null Count  Dtype  \n",
      "---  ------                      --------------  -----  \n",
      " 0   Feature 1 (Discrete)        994 non-null    int64  \n",
      " 1   Feature 2 (Discrete)        994 non-null    int64  \n",
      " 2   Feature 3 (Discrete)        994 non-null    int64  \n",
      " 3   Feature 4 (Discrete)        994 non-null    int64  \n",
      " 4   Feature 5 (Discrete)        994 non-null    int64  \n",
      " 5   Feature 6 (Discrete)        994 non-null    int64  \n",
      " 6   Feature 7 (Discrete)        994 non-null    int64  \n",
      " 7   Feature 8 (Discrete)        994 non-null    int64  \n",
      " 8   Feature 9                   980 non-null    float64\n",
      " 9   Feature 10                  993 non-null    float64\n",
      " 10  Feature 11                  993 non-null    float64\n",
      " 11  Feature 12                  993 non-null    float64\n",
      " 12  Feature 13                  993 non-null    float64\n",
      " 13  Feature 14                  993 non-null    float64\n",
      " 14  Feature 15                  922 non-null    float64\n",
      " 15  Feature 16                  325 non-null    float64\n",
      " 16  Feature 17                  448 non-null    float64\n",
      " 17  Feature 18                  664 non-null    float64\n",
      " 18  Feature 19 (Discrete)       994 non-null    int64  \n",
      " 19  Feature 20 (Discrete)       994 non-null    int64  \n",
      " 20  Feature 21 (Discrete)       994 non-null    int64  \n",
      " 21  Feature 22 (Discrete)       994 non-null    int64  \n",
      " 22  Feature 23 (Discrete)       994 non-null    int64  \n",
      " 23  Feature 24                  993 non-null    float64\n",
      " 24  Target Variable (Discrete)  994 non-null    int64  \n",
      "dtypes: float64(11), int64(14)\n",
      "memory usage: 194.3 KB\n"
     ]
    }
   ],
   "source": [
    "df.info()"
   ]
  },
  {
   "cell_type": "code",
   "execution_count": 7,
   "id": "de89b322",
   "metadata": {},
   "outputs": [
    {
     "name": "stdout",
     "output_type": "stream",
     "text": [
      "{1: 2.0368852459016393, 0: 3.9919678714859437, 2: 9.119266055045872, 6: 14.2, 5: 24.24390243902439, 8: 142.0, 14: 198.8, 7: 198.8, 15: 248.5, 4: 331.3333333333333, 13: 331.3333333333333, 3: 331.3333333333333, 9: 497.0, 12: 994.0, 17: 994.0, 11: 994.0, 10: 994.0, 16: 994.0}\n"
     ]
    }
   ],
   "source": [
    "class_label_freq_dict = df['Target Variable (Discrete)'].value_counts().to_dict()\n",
    "total_samples = df.shape[0]\n",
    "class_weights_dict = {}\n",
    "for class_label_name,class_freq in class_label_freq_dict.items():\n",
    "    class_weights_dict[class_label_name] = total_samples/class_label_freq_dict[class_label_name]\n",
    "\n",
    "\n",
    "print(class_weights_dict)"
   ]
  },
  {
   "cell_type": "code",
   "execution_count": 8,
   "id": "11e273bf",
   "metadata": {},
   "outputs": [
    {
     "data": {
      "text/plain": [
       "Target Variable (Discrete)\n",
       "1     488\n",
       "0     249\n",
       "2     109\n",
       "6      70\n",
       "5      41\n",
       "8       7\n",
       "14      5\n",
       "7       5\n",
       "15      4\n",
       "4       3\n",
       "13      3\n",
       "3       3\n",
       "9       2\n",
       "12      1\n",
       "17      1\n",
       "11      1\n",
       "10      1\n",
       "16      1\n",
       "Name: count, dtype: int64"
      ]
     },
     "execution_count": 8,
     "metadata": {},
     "output_type": "execute_result"
    }
   ],
   "source": [
    "df['Target Variable (Discrete)'].value_counts()"
   ]
  },
  {
   "cell_type": "code",
   "execution_count": 9,
   "id": "f595940e",
   "metadata": {},
   "outputs": [],
   "source": [
    "def data_preprocessor(X):\n",
    "\n",
    "    # Identify categorical and numerical columns\n",
    "    categorical_cols = [cname for cname in X.columns if X[cname].dtype == \"int64\"]\n",
    "    numerical_cols = [cname for cname in X.columns if X[cname].dtype == \"float64\"]\n",
    "\n",
    "    # Create transformers for categorical and numerical features\n",
    "    categorical_transformer = Pipeline(steps=[\n",
    "        ('imputer', SimpleImputer(strategy='most_frequent'))\n",
    "        ,('onehot', OneHotEncoder(handle_unknown='ignore'))\n",
    "    ])\n",
    "\n",
    "    numerical_transformer = Pipeline(steps=[\n",
    "        ('imputer', SimpleImputer(strategy='mean')),\n",
    "        ('scaler', StandardScaler())\n",
    "    ])\n",
    "\n",
    "    # Combine transformers using ColumnTransformer\n",
    "    preprocessor = ColumnTransformer(\n",
    "        transformers=[\n",
    "            ('num', numerical_transformer, numerical_cols),\n",
    "            ('cat', categorical_transformer, categorical_cols)\n",
    "        ])\n",
    "\n",
    "    return preprocessor\n",
    "\n",
    "def add_interaction_features(df):\n",
    "    # Add interaction features to the DataFrame\n",
    "    df['Feature9_Feature12'] = df['Feature 9'] * df['Feature 12']\n",
    "    df['Feature5_Feature18'] = df['Feature 5 (Discrete)'] * df['Feature 18']\n",
    "    df['Feature13_Feature15'] = df['Feature 13'] / df['Feature 15']\n",
    "    df['Feature8_Feature24'] = df['Feature 8 (Discrete)'] * df['Feature 24']\n",
    "    df['Feature10_Feature11'] = df['Feature 10'] / df['Feature 11']\n",
    "    df['Feature16_Feature17'] = df['Feature 16'] * df['Feature 17']\n",
    "    return df\n"
   ]
  },
  {
   "cell_type": "code",
   "execution_count": 10,
   "id": "5ff0add2",
   "metadata": {},
   "outputs": [],
   "source": [
    "df = add_interaction_features(df)\n",
    "df_valid = add_interaction_features(df_valid)"
   ]
  },
  {
   "cell_type": "code",
   "execution_count": 11,
   "id": "1387e8bc",
   "metadata": {},
   "outputs": [
    {
     "name": "stdout",
     "output_type": "stream",
     "text": [
      "Shape before upsampling: (894, 30) : (894,)\n",
      "Shape after upsampling: (7497, 30) : (7497,)\n"
     ]
    }
   ],
   "source": [
    "# Separate features and target variable\n",
    "X = df.drop(\"Target Variable (Discrete)\", axis=1)\n",
    "y = df[\"Target Variable (Discrete)\"]\n",
    "\n",
    "\n",
    "X_train, X_test, y_train, y_test = train_test_split(X, y, test_size=0.1, random_state=random_state)\n",
    "\n",
    "ros = RandomOverSampler(sampling_strategy='auto', random_state=random_state)\n",
    "print(f\"Shape before upsampling: {X_train.shape} : {y_train.shape}\")\n",
    "X_train_resampled, y_train_resampled = ros.fit_resample(X_train, y_train)\n",
    "print(f\"Shape after upsampling: {X_train_resampled.shape} : {y_train_resampled.shape}\")\n",
    "\n",
    "preprocessor = data_preprocessor(X)\n",
    "X_train_preprocessed = preprocessor.fit_transform(X_train_resampled)\n",
    "X_test_preprocessed = preprocessor.transform(X_test)\n",
    "X_valid_preprocessed = preprocessor.transform(df_valid)\n",
    "\n",
    "\n",
    "# preprocessor = data_preprocessor(X)\n",
    "# X_preprocessed = preprocessor.fit_transform(X)\n",
    "# X_valid_preprocessed = preprocessor.transform(df_valid)\n",
    "\n",
    "# X_train_preprocessed, X_test_preprocessed, y_train, y_test = train_test_split(X_preprocessed, y, test_size=0.1, random_state=random_state)\n",
    "\n",
    "# poly = PolynomialFeatures(degree=2, interaction_only=True, include_bias=False)\n",
    "\n",
    "# # Fit and transform on training data\n",
    "# X_poly = poly.fit_transform(X_preprocessed)\n",
    "\n",
    "# # Transform validation data\n",
    "# X_valid_poly = poly.transform(X_valid_preprocessed)\n",
    "\n",
    "# # Convert PolynomialFeatures output to sparse matrix and concatenate with original data\n",
    "# X_poly_sparse = hstack([X_preprocessed, X_poly[:, X_preprocessed.shape[1]:]])\n",
    "# X_valid_preprocessed = hstack([X_valid_preprocessed, X_valid_poly[:, X_valid_preprocessed.shape[1]:]])\n",
    "\n",
    "# # Split the data into training and testing sets\n",
    "# X_train_preprocessed, X_test_preprocessed, y_train, y_test = train_test_split(X_poly_sparse, y, test_size=0.1, random_state=random_state)"
   ]
  },
  {
   "cell_type": "code",
   "execution_count": 12,
   "id": "92620a22",
   "metadata": {},
   "outputs": [
    {
     "data": {
      "text/plain": [
       "((7497, 2674), (100, 2674), (426, 2674))"
      ]
     },
     "execution_count": 12,
     "metadata": {},
     "output_type": "execute_result"
    }
   ],
   "source": [
    "X_train_preprocessed.shape, X_test_preprocessed.shape, X_valid_preprocessed.shape"
   ]
  },
  {
   "cell_type": "code",
   "execution_count": 13,
   "id": "48d3ed3d",
   "metadata": {},
   "outputs": [],
   "source": [
    "def evaluate_models(X_train, X_test, y_train, y_test):\n",
    "    models = {\n",
    "        'Stochastic Gradient Descent' : SGDClassifier(random_state=random_state),\n",
    "        'Random Forest': RandomForestClassifier(n_estimators=1000, random_state=random_state, class_weight=class_weights_dict),\n",
    "        'Decsision Tree': DecisionTreeClassifier(random_state=random_state),\n",
    "        'AdaBoost': AdaBoostClassifier(random_state=random_state),\n",
    "        'Support Vector Machine': SVC(C=1.0, kernel='rbf', gamma='scale', probability=True, random_state=random_state)\n",
    "    }\n",
    "\n",
    "    results = {}\n",
    "\n",
    "    for model_name, model in models.items():\n",
    "        # Create a new pipeline with the model\n",
    "        model_pipeline = Pipeline(steps=[('model', model)])\n",
    "\n",
    "        # Fit the pipeline on the training data\n",
    "        model_pipeline.fit(X_train, y_train)\n",
    "\n",
    "        # Make predictions on the test set\n",
    "        y_pred = model_pipeline.predict(X_test)\n",
    "\n",
    "        # Evaluate the model\n",
    "        accuracy = accuracy_score(y_test, y_pred)\n",
    "        precision = precision_score(y_test, y_pred, average='macro')\n",
    "        recall = recall_score(y_test, y_pred, average='macro')\n",
    "        f1 = f1_score(y_test, y_pred, average='macro')\n",
    "\n",
    "        # Store the model and results in a dictionary\n",
    "        results[model_name] = {\n",
    "            'model': model_pipeline,\n",
    "            'metrics': {\n",
    "                'Accuracy': accuracy,\n",
    "                'Precision': precision,\n",
    "                'Recall': recall,\n",
    "                'F1 Score': f1\n",
    "            }\n",
    "        }\n",
    "\n",
    "        # Display results\n",
    "        print(f\"\\nResults for {model_name}:\")\n",
    "        print(f\"Accuracy: {accuracy:.4f}\")\n",
    "        print(f\"Precision: {precision:.4f}\")\n",
    "        print(f\"Recall: {recall:.4f}\")\n",
    "        print(f\"F1 Score: {f1:.4f}\")\n",
    "\n",
    "    return results"
   ]
  },
  {
   "cell_type": "code",
   "execution_count": 14,
   "id": "9c67d60e",
   "metadata": {},
   "outputs": [],
   "source": [
    "from sklearn.model_selection import cross_val_score\n",
    "from sklearn.model_selection import StratifiedKFold\n",
    "\n",
    "def evaluate_models_cross(X_train, y_train):\n",
    "    models = {\n",
    "        'Stochastic Gradient Descent' : SGDClassifier(random_state=random_state, loss='log'),\n",
    "        'Random Forest': RandomForestClassifier(n_estimators=1000, random_state=random_state),\n",
    "        'Decsision Tree': DecisionTreeClassifier(random_state=random_state),\n",
    "        'AdaBoost': AdaBoostClassifier(random_state=random_state),\n",
    "        'Support Vector Machine': SVC(C=1.0, kernel='rbf', gamma='scale', probability=True, random_state=random_state)\n",
    "    }\n",
    "\n",
    "    results = {}\n",
    "\n",
    "    for model_name, model in models.items():\n",
    "        \n",
    "        model.fit(X_train, y_train)\n",
    "        \n",
    "        # Perform cross-validation\n",
    "        cv = StratifiedKFold(n_splits=5, shuffle=True, random_state=random_state)  # Adjust the number of splits as needed\n",
    "        cv_scores = cross_val_score(model, X_train, y_train, cv=cv, scoring='accuracy')\n",
    "\n",
    "        # Make predictions on the test set\n",
    "        y_pred_train = model.predict(X_train)\n",
    "\n",
    "        # Evaluate the model\n",
    "        accuracy = accuracy_score(y_train, y_pred_train)\n",
    "        precision = precision_score(y_train, y_pred_train, average='macro')\n",
    "        recall = recall_score(y_train, y_pred_train, average='macro')\n",
    "        f1 = f1_score(y_train, y_pred_train, average='macro')\n",
    "        \n",
    "\n",
    "        # Store the model and results in a dictionary\n",
    "        results[model_name] = {\n",
    "            'model': model,\n",
    "            'metrics': {\n",
    "                'Accuracy': accuracy,\n",
    "                'Precision': precision,\n",
    "                'Recall': recall,\n",
    "                'F1 Score': f1,\n",
    "                'CV Mean Accuracy': cv_scores.mean(),  # Mean cross-validation accuracy\n",
    "                'CV Std Accuracy': cv_scores.std()  # Standard deviation of cross-validation accuracy\n",
    "            }\n",
    "        }\n",
    "\n",
    "        # Display results\n",
    "        print(f\"\\nResults for {model_name}:\")\n",
    "        print(f\"Accuracy: {accuracy:.4f}\")\n",
    "        print(f\"Precision: {precision:.4f}\")\n",
    "        print(f\"Recall: {recall:.4f}\")\n",
    "        print(f\"F1 Score: {f1:.4f}\")\n",
    "        print(f\"CV Mean Accuracy: {cv_scores.mean():.4f}\")\n",
    "        print(f\"CV Std Accuracy: {cv_scores.std():.4f}\")\n",
    "\n",
    "    return results"
   ]
  },
  {
   "cell_type": "code",
   "execution_count": 15,
   "id": "4c81b909",
   "metadata": {},
   "outputs": [
    {
     "name": "stdout",
     "output_type": "stream",
     "text": [
      "\n",
      "Results for Stochastic Gradient Descent:\n",
      "Accuracy: 0.8500\n",
      "Precision: 0.3966\n",
      "Recall: 0.4033\n",
      "F1 Score: 0.3983\n"
     ]
    },
    {
     "name": "stderr",
     "output_type": "stream",
     "text": [
      "/Users/abhjha8/cs23mtech15001_cs23mtech15025_kaggle/venv/lib/python3.10/site-packages/sklearn/metrics/_classification.py:1471: UndefinedMetricWarning: Precision is ill-defined and being set to 0.0 in labels with no predicted samples. Use `zero_division` parameter to control this behavior.\n",
      "  _warn_prf(average, modifier, msg_start, len(result))\n",
      "/Users/abhjha8/cs23mtech15001_cs23mtech15025_kaggle/venv/lib/python3.10/site-packages/sklearn/metrics/_classification.py:1471: UndefinedMetricWarning: Recall is ill-defined and being set to 0.0 in labels with no true samples. Use `zero_division` parameter to control this behavior.\n",
      "  _warn_prf(average, modifier, msg_start, len(result))\n",
      "/Users/abhjha8/cs23mtech15001_cs23mtech15025_kaggle/venv/lib/python3.10/site-packages/sklearn/metrics/_classification.py:1471: UndefinedMetricWarning: Precision is ill-defined and being set to 0.0 in labels with no predicted samples. Use `zero_division` parameter to control this behavior.\n",
      "  _warn_prf(average, modifier, msg_start, len(result))\n",
      "/Users/abhjha8/cs23mtech15001_cs23mtech15025_kaggle/venv/lib/python3.10/site-packages/sklearn/metrics/_classification.py:1471: UndefinedMetricWarning: Precision is ill-defined and being set to 0.0 in labels with no predicted samples. Use `zero_division` parameter to control this behavior.\n",
      "  _warn_prf(average, modifier, msg_start, len(result))\n"
     ]
    },
    {
     "name": "stdout",
     "output_type": "stream",
     "text": [
      "\n",
      "Results for Random Forest:\n",
      "Accuracy: 0.8800\n",
      "Precision: 0.4725\n",
      "Recall: 0.4924\n",
      "F1 Score: 0.4795\n",
      "\n",
      "Results for Decsision Tree:\n",
      "Accuracy: 0.8000\n",
      "Precision: 0.3517\n",
      "Recall: 0.3624\n",
      "F1 Score: 0.3564\n"
     ]
    },
    {
     "name": "stderr",
     "output_type": "stream",
     "text": [
      "/Users/abhjha8/cs23mtech15001_cs23mtech15025_kaggle/venv/lib/python3.10/site-packages/sklearn/metrics/_classification.py:1471: UndefinedMetricWarning: Precision is ill-defined and being set to 0.0 in labels with no predicted samples. Use `zero_division` parameter to control this behavior.\n",
      "  _warn_prf(average, modifier, msg_start, len(result))\n"
     ]
    },
    {
     "name": "stdout",
     "output_type": "stream",
     "text": [
      "\n",
      "Results for AdaBoost:\n",
      "Accuracy: 0.1600\n",
      "Precision: 0.0145\n",
      "Recall: 0.0909\n",
      "F1 Score: 0.0251\n",
      "\n",
      "Results for Support Vector Machine:\n",
      "Accuracy: 0.8800\n",
      "Precision: 0.4779\n",
      "Recall: 0.5094\n",
      "F1 Score: 0.4918\n"
     ]
    },
    {
     "name": "stderr",
     "output_type": "stream",
     "text": [
      "/Users/abhjha8/cs23mtech15001_cs23mtech15025_kaggle/venv/lib/python3.10/site-packages/sklearn/metrics/_classification.py:1471: UndefinedMetricWarning: Precision is ill-defined and being set to 0.0 in labels with no predicted samples. Use `zero_division` parameter to control this behavior.\n",
      "  _warn_prf(average, modifier, msg_start, len(result))\n"
     ]
    }
   ],
   "source": [
    "# Assuming 'your_data' is the variable containing your DataFrame\n",
    "preprocessor = data_preprocessor(X)\n",
    "results = evaluate_models(X_train_preprocessed, X_test_preprocessed, y_train_resampled, y_test)\n",
    "#results = evaluate_models_cross(X_preprocessed, y)"
   ]
  },
  {
   "cell_type": "code",
   "execution_count": 16,
   "id": "9d43c943",
   "metadata": {},
   "outputs": [],
   "source": [
    "y_pred_val_final = results['Support Vector Machine']['model'].predict(X_valid_preprocessed)"
   ]
  },
  {
   "cell_type": "code",
   "execution_count": 17,
   "id": "33e67ce8",
   "metadata": {},
   "outputs": [],
   "source": [
    "df_valid['Category'] = y_pred_val_final"
   ]
  },
  {
   "cell_type": "code",
   "execution_count": 18,
   "id": "2f6fd25b",
   "metadata": {},
   "outputs": [],
   "source": [
    "data_submission_final = pd.DataFrame()\n",
    "\n",
    "index_list = df_valid.index.tolist()\n",
    "\n",
    "index_list = [x + 1 for x in index_list]\n",
    "data_submission_final['Id'] = index_list\n",
    "data_submission_final['Category'] = df_valid['Category']"
   ]
  },
  {
   "cell_type": "code",
   "execution_count": 19,
   "id": "beee5892",
   "metadata": {},
   "outputs": [],
   "source": [
    "data_submission_final.to_csv(\"test_output.csv\",index=False)"
   ]
  },
  {
   "cell_type": "code",
   "execution_count": null,
   "id": "161df292",
   "metadata": {},
   "outputs": [],
   "source": []
  }
 ],
 "metadata": {
  "kernelspec": {
   "display_name": "Python 3 (ipykernel)",
   "language": "python",
   "name": "python3"
  },
  "language_info": {
   "codemirror_mode": {
    "name": "ipython",
    "version": 3
   },
   "file_extension": ".py",
   "mimetype": "text/x-python",
   "name": "python",
   "nbconvert_exporter": "python",
   "pygments_lexer": "ipython3",
   "version": "3.10.13"
  }
 },
 "nbformat": 4,
 "nbformat_minor": 5
}
